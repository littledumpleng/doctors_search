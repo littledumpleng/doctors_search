{
 "cells": [
  {
   "cell_type": "code",
   "execution_count": 3,
   "metadata": {},
   "outputs": [
    {
     "output_type": "error",
     "ename": "FileNotFoundError",
     "evalue": "[Errno 2] No such file or directory: 'HA Scientists.csv'",
     "traceback": [
      "\u001b[0;31m---------------------------------------------------------------------------\u001b[0m",
      "\u001b[0;31mFileNotFoundError\u001b[0m                         Traceback (most recent call last)",
      "\u001b[0;32m<ipython-input-3-608a8e820373>\u001b[0m in \u001b[0;36m<module>\u001b[0;34m\u001b[0m\n\u001b[1;32m      1\u001b[0m \u001b[0;32mimport\u001b[0m \u001b[0mpandas\u001b[0m \u001b[0;32mas\u001b[0m \u001b[0mpd\u001b[0m\u001b[0;34m\u001b[0m\u001b[0;34m\u001b[0m\u001b[0m\n\u001b[0;32m----> 2\u001b[0;31m \u001b[0mdf\u001b[0m \u001b[0;34m=\u001b[0m \u001b[0mpd\u001b[0m\u001b[0;34m.\u001b[0m\u001b[0mread_csv\u001b[0m\u001b[0;34m(\u001b[0m\u001b[0;34m\"HA Scientists.csv\"\u001b[0m\u001b[0;34m)\u001b[0m\u001b[0;34m\u001b[0m\u001b[0;34m\u001b[0m\u001b[0m\n\u001b[0m\u001b[1;32m      3\u001b[0m \u001b[0;34m(\u001b[0m\u001b[0mdf\u001b[0m\u001b[0;34m[\u001b[0m\u001b[0;34m\"Provide overview of your hydrocephalus research focus\"\u001b[0m\u001b[0;34m]\u001b[0m\u001b[0;34m)\u001b[0m\u001b[0;34m.\u001b[0m\u001b[0mhead\u001b[0m\u001b[0;34m(\u001b[0m\u001b[0;36m268\u001b[0m\u001b[0;34m)\u001b[0m \u001b[0;31m#shortens the output\u001b[0m\u001b[0;34m\u001b[0m\u001b[0;34m\u001b[0m\u001b[0m\n",
      "\u001b[0;32m~/opt/anaconda3/lib/python3.8/site-packages/pandas/io/parsers.py\u001b[0m in \u001b[0;36mread_csv\u001b[0;34m(filepath_or_buffer, sep, delimiter, header, names, index_col, usecols, squeeze, prefix, mangle_dupe_cols, dtype, engine, converters, true_values, false_values, skipinitialspace, skiprows, skipfooter, nrows, na_values, keep_default_na, na_filter, verbose, skip_blank_lines, parse_dates, infer_datetime_format, keep_date_col, date_parser, dayfirst, cache_dates, iterator, chunksize, compression, thousands, decimal, lineterminator, quotechar, quoting, doublequote, escapechar, comment, encoding, dialect, error_bad_lines, warn_bad_lines, delim_whitespace, low_memory, memory_map, float_precision)\u001b[0m\n\u001b[1;32m    684\u001b[0m     )\n\u001b[1;32m    685\u001b[0m \u001b[0;34m\u001b[0m\u001b[0m\n\u001b[0;32m--> 686\u001b[0;31m     \u001b[0;32mreturn\u001b[0m \u001b[0m_read\u001b[0m\u001b[0;34m(\u001b[0m\u001b[0mfilepath_or_buffer\u001b[0m\u001b[0;34m,\u001b[0m \u001b[0mkwds\u001b[0m\u001b[0;34m)\u001b[0m\u001b[0;34m\u001b[0m\u001b[0;34m\u001b[0m\u001b[0m\n\u001b[0m\u001b[1;32m    687\u001b[0m \u001b[0;34m\u001b[0m\u001b[0m\n\u001b[1;32m    688\u001b[0m \u001b[0;34m\u001b[0m\u001b[0m\n",
      "\u001b[0;32m~/opt/anaconda3/lib/python3.8/site-packages/pandas/io/parsers.py\u001b[0m in \u001b[0;36m_read\u001b[0;34m(filepath_or_buffer, kwds)\u001b[0m\n\u001b[1;32m    450\u001b[0m \u001b[0;34m\u001b[0m\u001b[0m\n\u001b[1;32m    451\u001b[0m     \u001b[0;31m# Create the parser.\u001b[0m\u001b[0;34m\u001b[0m\u001b[0;34m\u001b[0m\u001b[0;34m\u001b[0m\u001b[0m\n\u001b[0;32m--> 452\u001b[0;31m     \u001b[0mparser\u001b[0m \u001b[0;34m=\u001b[0m \u001b[0mTextFileReader\u001b[0m\u001b[0;34m(\u001b[0m\u001b[0mfp_or_buf\u001b[0m\u001b[0;34m,\u001b[0m \u001b[0;34m**\u001b[0m\u001b[0mkwds\u001b[0m\u001b[0;34m)\u001b[0m\u001b[0;34m\u001b[0m\u001b[0;34m\u001b[0m\u001b[0m\n\u001b[0m\u001b[1;32m    453\u001b[0m \u001b[0;34m\u001b[0m\u001b[0m\n\u001b[1;32m    454\u001b[0m     \u001b[0;32mif\u001b[0m \u001b[0mchunksize\u001b[0m \u001b[0;32mor\u001b[0m \u001b[0miterator\u001b[0m\u001b[0;34m:\u001b[0m\u001b[0;34m\u001b[0m\u001b[0;34m\u001b[0m\u001b[0m\n",
      "\u001b[0;32m~/opt/anaconda3/lib/python3.8/site-packages/pandas/io/parsers.py\u001b[0m in \u001b[0;36m__init__\u001b[0;34m(self, f, engine, **kwds)\u001b[0m\n\u001b[1;32m    944\u001b[0m             \u001b[0mself\u001b[0m\u001b[0;34m.\u001b[0m\u001b[0moptions\u001b[0m\u001b[0;34m[\u001b[0m\u001b[0;34m\"has_index_names\"\u001b[0m\u001b[0;34m]\u001b[0m \u001b[0;34m=\u001b[0m \u001b[0mkwds\u001b[0m\u001b[0;34m[\u001b[0m\u001b[0;34m\"has_index_names\"\u001b[0m\u001b[0;34m]\u001b[0m\u001b[0;34m\u001b[0m\u001b[0;34m\u001b[0m\u001b[0m\n\u001b[1;32m    945\u001b[0m \u001b[0;34m\u001b[0m\u001b[0m\n\u001b[0;32m--> 946\u001b[0;31m         \u001b[0mself\u001b[0m\u001b[0;34m.\u001b[0m\u001b[0m_make_engine\u001b[0m\u001b[0;34m(\u001b[0m\u001b[0mself\u001b[0m\u001b[0;34m.\u001b[0m\u001b[0mengine\u001b[0m\u001b[0;34m)\u001b[0m\u001b[0;34m\u001b[0m\u001b[0;34m\u001b[0m\u001b[0m\n\u001b[0m\u001b[1;32m    947\u001b[0m \u001b[0;34m\u001b[0m\u001b[0m\n\u001b[1;32m    948\u001b[0m     \u001b[0;32mdef\u001b[0m \u001b[0mclose\u001b[0m\u001b[0;34m(\u001b[0m\u001b[0mself\u001b[0m\u001b[0;34m)\u001b[0m\u001b[0;34m:\u001b[0m\u001b[0;34m\u001b[0m\u001b[0;34m\u001b[0m\u001b[0m\n",
      "\u001b[0;32m~/opt/anaconda3/lib/python3.8/site-packages/pandas/io/parsers.py\u001b[0m in \u001b[0;36m_make_engine\u001b[0;34m(self, engine)\u001b[0m\n\u001b[1;32m   1176\u001b[0m     \u001b[0;32mdef\u001b[0m \u001b[0m_make_engine\u001b[0m\u001b[0;34m(\u001b[0m\u001b[0mself\u001b[0m\u001b[0;34m,\u001b[0m \u001b[0mengine\u001b[0m\u001b[0;34m=\u001b[0m\u001b[0;34m\"c\"\u001b[0m\u001b[0;34m)\u001b[0m\u001b[0;34m:\u001b[0m\u001b[0;34m\u001b[0m\u001b[0;34m\u001b[0m\u001b[0m\n\u001b[1;32m   1177\u001b[0m         \u001b[0;32mif\u001b[0m \u001b[0mengine\u001b[0m \u001b[0;34m==\u001b[0m \u001b[0;34m\"c\"\u001b[0m\u001b[0;34m:\u001b[0m\u001b[0;34m\u001b[0m\u001b[0;34m\u001b[0m\u001b[0m\n\u001b[0;32m-> 1178\u001b[0;31m             \u001b[0mself\u001b[0m\u001b[0;34m.\u001b[0m\u001b[0m_engine\u001b[0m \u001b[0;34m=\u001b[0m \u001b[0mCParserWrapper\u001b[0m\u001b[0;34m(\u001b[0m\u001b[0mself\u001b[0m\u001b[0;34m.\u001b[0m\u001b[0mf\u001b[0m\u001b[0;34m,\u001b[0m \u001b[0;34m**\u001b[0m\u001b[0mself\u001b[0m\u001b[0;34m.\u001b[0m\u001b[0moptions\u001b[0m\u001b[0;34m)\u001b[0m\u001b[0;34m\u001b[0m\u001b[0;34m\u001b[0m\u001b[0m\n\u001b[0m\u001b[1;32m   1179\u001b[0m         \u001b[0;32melse\u001b[0m\u001b[0;34m:\u001b[0m\u001b[0;34m\u001b[0m\u001b[0;34m\u001b[0m\u001b[0m\n\u001b[1;32m   1180\u001b[0m             \u001b[0;32mif\u001b[0m \u001b[0mengine\u001b[0m \u001b[0;34m==\u001b[0m \u001b[0;34m\"python\"\u001b[0m\u001b[0;34m:\u001b[0m\u001b[0;34m\u001b[0m\u001b[0;34m\u001b[0m\u001b[0m\n",
      "\u001b[0;32m~/opt/anaconda3/lib/python3.8/site-packages/pandas/io/parsers.py\u001b[0m in \u001b[0;36m__init__\u001b[0;34m(self, src, **kwds)\u001b[0m\n\u001b[1;32m   2006\u001b[0m         \u001b[0mkwds\u001b[0m\u001b[0;34m[\u001b[0m\u001b[0;34m\"usecols\"\u001b[0m\u001b[0;34m]\u001b[0m \u001b[0;34m=\u001b[0m \u001b[0mself\u001b[0m\u001b[0;34m.\u001b[0m\u001b[0musecols\u001b[0m\u001b[0;34m\u001b[0m\u001b[0;34m\u001b[0m\u001b[0m\n\u001b[1;32m   2007\u001b[0m \u001b[0;34m\u001b[0m\u001b[0m\n\u001b[0;32m-> 2008\u001b[0;31m         \u001b[0mself\u001b[0m\u001b[0;34m.\u001b[0m\u001b[0m_reader\u001b[0m \u001b[0;34m=\u001b[0m \u001b[0mparsers\u001b[0m\u001b[0;34m.\u001b[0m\u001b[0mTextReader\u001b[0m\u001b[0;34m(\u001b[0m\u001b[0msrc\u001b[0m\u001b[0;34m,\u001b[0m \u001b[0;34m**\u001b[0m\u001b[0mkwds\u001b[0m\u001b[0;34m)\u001b[0m\u001b[0;34m\u001b[0m\u001b[0;34m\u001b[0m\u001b[0m\n\u001b[0m\u001b[1;32m   2009\u001b[0m         \u001b[0mself\u001b[0m\u001b[0;34m.\u001b[0m\u001b[0munnamed_cols\u001b[0m \u001b[0;34m=\u001b[0m \u001b[0mself\u001b[0m\u001b[0;34m.\u001b[0m\u001b[0m_reader\u001b[0m\u001b[0;34m.\u001b[0m\u001b[0munnamed_cols\u001b[0m\u001b[0;34m\u001b[0m\u001b[0;34m\u001b[0m\u001b[0m\n\u001b[1;32m   2010\u001b[0m \u001b[0;34m\u001b[0m\u001b[0m\n",
      "\u001b[0;32mpandas/_libs/parsers.pyx\u001b[0m in \u001b[0;36mpandas._libs.parsers.TextReader.__cinit__\u001b[0;34m()\u001b[0m\n",
      "\u001b[0;32mpandas/_libs/parsers.pyx\u001b[0m in \u001b[0;36mpandas._libs.parsers.TextReader._setup_parser_source\u001b[0;34m()\u001b[0m\n",
      "\u001b[0;31mFileNotFoundError\u001b[0m: [Errno 2] No such file or directory: 'HA Scientists.csv'"
     ]
    }
   ],
   "source": [
    "import pandas as pd\n",
    "df = pd.read_csv(\"HA Scientists.csv\")\n",
    "(df[\"Provide overview of your hydrocephalus research focus\"]).head(268) #shortens the output"
   ]
  },
  {
   "cell_type": "code",
   "execution_count": null,
   "metadata": {},
   "outputs": [],
   "source": [
    "#INTRODUCTION (This data may be stored)\n",
    "\n",
    "#Enter name\n",
    "name = input(\"Hello! What is your name? \")\n",
    "\n",
    "#Enter age\n",
    "age = input(\"How old are you? \")\n",
    "age = int(age)\n",
    "\n",
    "#Enter years\n",
    "years = input(\"How many years have you had hydrocephalus? \")\n",
    "years = int(years)\n",
    "\n",
    "#Enter location information\n",
    "state = \"\" #initializes \"state\" to a blank string. \"state\" will otherwise save input from a previous iteration\n",
    "country = input(\"What country are you from? \")\n",
    "\n",
    "if (country == \"USA\" or country == \"US\" or country == \"United States\" or country == \"united states\" or country == \"u.s.a.\" or country == \"U.S.\" or country == \"U.S.A.\" or country == \"u.s.\" or country == \"usa\" or country == \"us\" or country == \"United States of America\" or country == \"united states of america\"): \n",
    "        state = input(\"What state do you live in? \")\n",
    "        "
   ]
  },
  {
   "cell_type": "code",
   "execution_count": null,
   "metadata": {},
   "outputs": [],
   "source": [
    "#SEARCH ENGINE\n",
    "\n",
    "user_input = input(\"What would you like to find in this database? \")\n",
    "\n",
    "print(\"Please wait while we search for a list of doctors: \")\n",
    "\n",
    "# split search into list\n",
    "user_input.replace(\",\",\" \")\n",
    "search_list = user_input.split(\" \")\n",
    "\n",
    "print(search_list)\n",
    "\n",
    "#create dictionary\n",
    "search_terms = {}\n",
    "\n",
    "#for each item in list\n",
    "for word in search_list:\n",
    "    search_terms[word] = []\n",
    "    print(search_terms)\n",
    "\n",
    "for word_s in search_terms:\n",
    "    for index, row in df.iterrows():\n",
    "        for column in df[\"Provide overview of your hydrocephalus research focus\"]:\n",
    "            column = str(column)\n",
    "            column = column.split()\n",
    "            for word_c in column:\n",
    "                    if row[\"Degrees\"] == \"MD\":\n",
    "                        row[\"Degrees\"] = \"M.D.\"\n",
    "                    elif row[\"Degrees\"] == \"PhD\":\n",
    "                        row[\"Degrees\"] = \"Ph.D.\"\n",
    "                    \n",
    "                    full_name = row['Name'], row['Last'], row[\"Degrees\"] , \". Email: \" , row[\"Email\"]\n",
    "                \n",
    "                    if full_name not in search_terms[word_s]:\n",
    "                        search_terms[word_s].append(full_name)\n",
    "\n",
    "print(search_terms)\n",
    "\n",
    "doctor_of_choice = input(\"Take time to review the list of doctors in your area of interest. Provide the name of your preferred doctor: \") \n",
    "#doctor_of_choice may be stored"
   ]
  },
  {
   "cell_type": "code",
   "execution_count": null,
   "metadata": {},
   "outputs": [],
   "source": [
    "#YES/NO EMAIL TEMPLATE\n",
    "\n",
    "template_answer = input(\"To reach out to a doctor, would you like an email template to use? \") \n",
    "\n",
    "if (template_answer == \"no\" or template_answer == \"No\"):\n",
    "    print(\"Have a nice day. A list of doctors is above. \")\n",
    "else:\n",
    "\n",
    "    #Enter email\n",
    "    email = input(\"What is your email address? \")\n",
    "\n",
    "    #Enter phone number\n",
    "    phone = input(\"What is your phone number? \")\n"
   ]
  },
  {
   "cell_type": "code",
   "execution_count": 4,
   "metadata": {},
   "outputs": [
    {
     "name": "stdout",
     "output_type": "stream",
     "text": [
      "Hello! What is your name? Lauren Eng\n",
      "How old are you? 21\n",
      "How many years have you had hydrocephalus? 8\n",
      "What country are you from? United States\n",
      "What state do you live in? Maryland\n",
      "What would you like to find in this database? biomarkers\n",
      "Please wait while we search for a list of doctors: \n",
      "['biomarkers']\n",
      "{'biomarkers': []}\n",
      "{'biomarkers': [('Bonnie', 'Blazer-Yost', 'Ph.D.', '. Email: ', 'bblazer@iupui.edu'), ('Joanne', 'Conover', 'Ph.D.', '. Email: ', 'joanne.conover@uconn.edu'), ('Krysti', 'Todd', 'Ph.D.', '. Email: ', 'krysti.todd@uconn.edu'), ('Jenna Koschnitzky', 'Koschnitzky', 'Ph.D.', '. Email: ', 'research@hydroassoc.org'), ('David', 'Limbrick', 'MD, PhD', '. Email: ', 'limbrickd@wustl.edu'), ('Marc', 'Del Bigio', 'MD PhD FRCPC', '. Email: ', 'marc.delbigio@umanitoba.ca'), ('Marco Antonio', 'Zanini', 'MD, pHD', '. Email: ', 'mzanini@fmb.unesp.br'), ('Parisa', 'Azimi', 'M.D.', '. Email: ', 'parisa.azimi@gmail.com'), ('Nicole', 'Stoddard', 'B.S. Biochemistry and Biophysics', '. Email: ', 'nstoddar@scripps.edu'), ('Roser', 'Garcia-Armengol', 'M.D.', '. Email: ', 'rga36560@hotmail.com'), ('Lance', 'Lee', 'Ph.D.', '. Email: ', 'lance.lee@sanfordhealth.org'), ('James (Pat)', 'McAllister', 'Ph.D.', '. Email: ', 'pat.mcallister@wustl.edu'), ('Gamble', 'Alexander', 'DO', '. Email: ', 'gamble.alex.j@gmail.com'), ('June', 'Goto', 'Ph.D.', '. Email: ', 'june.goto@cchmc.org'), ('Michael', 'Piper', 'Ph.D.', '. Email: ', 'm.piper@uq.edu.au'), ('Valentina', 'Agostini', 'Ph.D.', '. Email: ', 'valentina.agostini@polito.it'), ('Lucie', 'Sosvorova', 'PharmDr., PhD', '. Email: ', 'lsosvorova@endo.cz'), ('Tina Noergaard', 'Munch', 'M.D.', '. Email: ', 'tnm@ssi.dk'), ('Theodosis', 'Kalamatianos', 'B.Sc, M.Sc, Ph.D', '. Email: ', 'theodosis.kalamatianos@kcl.ac.uk'), ('Viktoria', 'Szabolcsi', 'M.D.', '. Email: ', 'viktoria.szabolcsi@unifr.ch'), ('Sebastian', 'Brandner', 'M.D.', '. Email: ', 'Sebastian.Brandner@uk-erlangen.de'), ('Deanna', 'Mercer', 'BS', '. Email: ', 'mercerd@wudosis.wustl.edu'), ('Kunimasa', 'Ohta', 'Ph.D.', '. Email: ', 'ohta9203@gpo.kumamoto-u.ac.jp'), ('Carolyn', 'Harris', 'Ph.D. (Bioengineering)', '. Email: ', 'caharris@med.wayne.edu'), ('Jill', 'Morris', 'Ph.D.', '. Email: ', 'jill.morris@nih.gov'), ('Valeria', 'Fu', 'Ph.D.', '. Email: ', 'fuv@upmc.edu'), ('Brian', 'Hanak', 'M.D.', '. Email: ', 'hanakb@uw.edu'), ('Ahmet', 'Bagci', 'Ph.D.', '. Email: ', 'abagci@med.miami.edu'), ('Gilles', 'Allali', 'M.D./Ph.D', '. Email: ', 'gilles.allali@hcuge.ch'), ('Madoka', 'Nakajima', 'MD,PhD', '. Email: ', 'madoka66@juntendo.ac.jp'), ('Ramin', 'Eskandari', 'M.S, M.D', '. Email: ', 'reskanda91@gmail.com'), ('Catherine', 'Mazzola', 'M.D.', '. Email: ', 'cmazzola@njpni.com'), ('Diana', 'Gray', nan, '. Email: ', 'diana@hydroassoc.org'), ('Pei-Yi', 'Lin', 'Ph.D.', '. Email: ', 'ivylin@nmr.mgh.harvard.edu'), ('Rosaria Viola', 'Abbritti', nan, '. Email: ', 'rv.abbritti@hotmail.it'), ('Lemm', 'Proos', 'MD, PhD, Dipl Trop Med', '. Email: ', 'Lemm.Proos@kbh.uu.se'), ('Evangelia', 'Liouta', 'Msc, DrSc. candidate', '. Email: ', 'evangelialiouta286@hotmail.com'), ('Ayhan', 'Kanat', 'M.D.', '. Email: ', 'akanat@yahoo.com'), ('Milos', 'Ivkovic', 'Ph.D.', '. Email: ', 'mii2004@med.cornell.edu'), ('Sebastian', 'Arnold', 'M.D.', '. Email: ', 'sebastian.arnold@uniklinik-freiburg.de'), ('Noam', 'Alperin', 'Ph.D.', '. Email: ', 'nalperin@med.miami.edu'), ('Michael', 'Smith', 'Ph.D.', '. Email: ', 'smitmic@musc.edu'), ('Tim', 'Vogel', 'M.D.', '. Email: ', 'tim.vogel@cchmc.org'), ('Kevin', 'Tangen', nan, '. Email: ', 'ktange2@uic.edu'), ('Jamie', 'Toms', 'M.D.', '. Email: ', 'jamie.toms@vcuhealth.org'), ('Llewellyn', 'Padayachy', 'MBChB, FCS, MMed', '. Email: ', 'L.Padayachy@uct.ac.za'), ('Thomas', 'Arnold', 'MD, MS', '. Email: ', 'arnoldt@peds.ucsf.edu'), ('Soner', 'Duru', 'MD, Pediatric Neurosurgeon', '. Email: ', 'sonerduru@yahoo.com'), ('Nina', 'Nuangchamnong', 'M.D.', '. Email: ', 'nina-nuangchamnong@uiowa.edu'), ('Tamara', 'Simon', 'MD, MSPH', '. Email: ', 'Tamara.Sim@seattlechildrens.org'), ('Patricia', 'Haylock-Vize', 'BSc(Hons)Diagnostic Imaging; MBBS Medicine;', '. Email: ', 'patriciahaylockvize@gmail.com'), ('Marvin', 'Sussman', 'BS, MS, Ph. D.', '. Email: ', 'mlsussman5@aol.com'), ('Abhay', 'Moghekar', 'M.B.;B.S.', '. Email: ', 'am@jhmi.edu'), ('Sunghoon', 'Kim', 'M.D.', '. Email: ', 'skim@mail.cho.org'), ('Paul', 'Gross', 'BA', '. Email: ', 'paul@hydroassoc.org'), ('Montserrat', 'Guerra Martin', 'MgSc, PhD', '. Email: ', 'monserratguerra@uach.cl'), ('Mick', 'Follari', nan, '. Email: ', 'shop@follari.com'), ('Aristotelis', 'Filippidis', 'MD PhD', '. Email: ', 'aristotelis.filippidis@gmail.com'), ('Stavros', 'Taraviras', 'Ph.D.', '. Email: ', 'taraviras@med.upatras.gr'), ('David', 'Apigo', 'B.A., M.S.', '. Email: ', 'dja8@njit.edu'), ('Andrew', 'Hale', 'BA, MS', '. Email: ', 'andrew.hale@vanderbilt.edu'), ('Roberta', 'Rehder', 'M.D.', '. Email: ', 'robertarehder1@gmail.com'), ('Andrew', 'Whitelaw', 'MD FRCPCH', '. Email: ', 'andrew.whitelaw@bristol.ac.uk'), ('Shenandoah', 'Robinson', 'M.D.', '. Email: ', 'srobin81@jhmi.edu'), ('Lauren', 'Jantzie', 'Ph.D.', '. Email: ', 'LJantzie@salud.unm.edu'), ('Albert', 'Isaacs', 'BSc. MD', '. Email: ', 'akm.isaacs@gmail.com'), ('Richard', 'Keep', 'BA, Ph.D.', '. Email: ', 'rkeep@umich.edu'), ('Andrew', 'Baird', 'Ph.D.', '. Email: ', 'anbaird@ucsd.edu'), ('Robert', 'Thorne', 'Ph.D.', '. Email: ', 'robert.thorne@wisc.edu'), ('Joseph', 'Scafidi', 'DO, MS', '. Email: ', 'jscafidi@childrensnational.org'), ('Maria', 'Lehtinen', 'Ph.D.', '. Email: ', 'maria.lehtinen@childrens.harvard.edu'), ('Roberta', 'Rehder', 'M.D.', '. Email: ', 'roberta.rehder@jhmi.edu'), ('Hannah', 'Tully', 'MD, MSc', '. Email: ', 'hmtully@uw.edu'), ('Yan', 'Ding', 'Ph.D.', '. Email: ', 'yanding0422@gmail.com'), ('Jennifer', 'Strahle', 'M.D.', '. Email: ', 'strahlej@wustl.edu'), ('Chethan', 'Venkatasubba Rao', 'M.D.', '. Email: ', 'cprao@bcm.edu'), ('Gregory', 'Heuer', 'MD PhD', '. Email: ', 'heuerg@email.chop.edu'), ('Chima', 'Oluigbo', 'M.D.', '. Email: ', 'coluigbo@childrensnational.org'), ('Mark', 'Johnson', 'MD, PhD', '. Email: ', 'mjohnson27@partners.org'), ('Kristopher', 'Kahle', 'M.D., Ph.D.', '. Email: ', 'kristopher.kahle@yale.edu'), ('ALAN', 'COHEN', 'M.D.', '. Email: ', 'alan.cohen@jhmi.edu'), ('Yijen', 'Wu', 'Ph.D.', '. Email: ', 'yijenwu@pitt.edu'), ('Itender', 'Singh', 'Ph.D.', '. Email: ', 'singhi@wustl.edu'), ('Evan', 'Snyder', 'MD, PhD', '. Email: ', 'esnyder@sbpdiscovery.org'), ('Hadie', 'Adams', 'M.D.', '. Email: ', 'ha356@cam.ac.uk'), ('Moise', 'Danielpour', 'M.D.', '. Email: ', 'moise.danielpour@cshs.org'), ('Joshua', 'Breunig', 'Ph.D.', '. Email: ', 'joshua.breunig@cshs.org'), ('Rachel', 'Bower', nan, '. Email: ', 'resgrants@swin.edu.au'), ('Nicholas', 'Moll', nan, '. Email: ', 'C17Nicholas.Moll@usafa.edu'), ('Jay', 'Sy', 'BSE, PhD', '. Email: ', 'jay.c.sy@rutgers.edu'), ('Michelle', 'Butler', 'Ph.D.', '. Email: ', 'michelle.butler@usafa.edu'), ('Antonio', 'Jimenez', 'PD', '. Email: ', 'ajjimenez@uma.es'), ('Diego', 'Morales', 'Ms', '. Email: ', 'dmorales@wustl.edu'), ('Jaleel', 'Miyan', 'B.Sc., Ph.D.', '. Email: ', 'j.miyan@manchester.ac.uk'), ('Sonia', 'Podvin', 'Ph.D.', '. Email: ', 'spodvin@ucsd.edu'), ('Satish', 'Krishnamurthy', 'MD, MCh, FAANS', '. Email: ', 'krishnsa@upstate.edu'), ('Enoch', 'Uche', 'MBBS, FWACS', '. Email: ', 'kechyenny@yahoo.com'), ('Axel', 'Heep', 'MD, FRCPCH', '. Email: ', 'axel.heep@bristol.ac.uk'), ('Mark', 'Quigley', 'Ph.D.', '. Email: ', 'mfquigley@wisc.edu'), ('Andrew', 'Hale', 'MS', '. Email: ', 'andrew.hale9@gmail.com'), ('Rolf', 'Burghardt', 'M.D.', '. Email: ', 'rolf-burghardt@web.de'), ('Kelly', 'Mahaney', 'M.D.', '. Email: ', 'kmahaney13@gmail.com'), ('Graham', 'Fieggen', 'MBChB MSc MD FCS', '. Email: ', 'graham.fieggen@uct.ac.za'), ('Jessica', 'Snowden', 'M.D.', '. Email: ', 'jsnowden@unmc.edu'), ('Brian', 'Mitchell', 'Ph.D.', '. Email: ', 'brian-mitchell@northwestern.edu'), ('Masaaki', 'Torii', 'Ph.D.', '. Email: ', 'mtorii@childrensnational.org'), ('Jason', 'Parker', 'Ph.D.', '. Email: ', 'parkerjg@iu.edu'), ('Griffin', 'Rial', 'M.S.', '. Email: ', 'griffinrial@gmail.com'), ('Shawn', 'Vuong', 'M.D.', '. Email: ', 'Shawn.Vuong@gmail.com'), ('Jason', 'Sutin', 'Ph.D.', '. Email: ', 'jason.sutin@childrens.harvard.edu'), ('Gwenn', 'Skar', 'M.D.', '. Email: ', 'gskar@unmc.edu'), ('Chantal', 'Openda', 'Business Management', '. Email: ', 'copenda@deservefoundation.org'), ('Chevis', 'Shannon', 'MBA, MPH, DrPH', '. Email: ', 'chevis.n.shannon@vanderbilt.edu'), ('Sharon', 'Levy', 'RN BA MPhil', '. Email: ', 'sharon.levy@sbhscotland.ac.uk'), ('Yangming', 'Ou', 'Ph.D.', '. Email: ', 'yangming.ou@childrens.harvard.edu'), ('Gholson', 'Lyon', 'MD PhD', '. Email: ', 'gholsonjlyon@gmail.com'), ('Gregory', 'Albert', 'MD, MPH', '. Email: ', 'galbert2@uams.edu'), ('Antti', 'Junkkari', nan, '. Email: ', 'antti.junkkari@kuh.fi'), ('Jason Scott', 'Hauptman', 'MD, PhD', '. Email: ', 'jason.hauptman@seattlechildrens.org'), ('Hannah', 'Botfield', 'BSc, MRes, PhD', '. Email: ', 'h.botfield@bham.ac.uk'), ('Anne', 'Slavotinek', 'MB.BS., Ph.D', '. Email: ', 'anne.slavotinek@ucsf.edu'), ('Jamie', 'Wright', 'B.S.', '. Email: ', 'jamie.wright0610@gmail.com'), ('Dolores', 'Domínguez-Pinos', 'Philosophical Doctor', '. Email: ', 'loly1977@hotmail.com'), ('Mark', 'Luciano', 'MD PhD', '. Email: ', 'markluciano@jhu.edu'), ('Ari', 'Blitz', 'M.D.', '. Email: ', 'ablitz1@jhmi.edu'), ('Guy', 'McKhann', 'M.D.', '. Email: ', 'gm317@columbia.edu'), ('Robert', 'Baier', 'PhD, PE', '. Email: ', 'baier@buffalo.edu'), ('Matthew Temitayo', 'Shokunbi', 'MBBS, MSc, FRCSC, FWACS', '. Email: ', 'temitayoshokunbi@yahoo.com'), ('Mark', 'Hamilton', 'MDCM, FRCSC', '. Email: ', 'mghamilton.hydro@gmail.com'), ('Jeffrey', 'Horbatiuk', 'High School Diploma', '. Email: ', 'jeff.horbatiuk@gmail.com'), ('Omowumi', 'Femi-Akinlosotu', 'Non-US/Non-Canadian', '. Email: ', 'omowumiakinlosotu@gmail.com'), ('Rowland', 'Han', 'MSE', '. Email: ', 'rowland.han@wustl.edu'), ('Mark', 'Kraemer', 'M.D.', '. Email: ', 'kraemer.mr@gmail.com'), ('Joyce', 'Koueik', 'M.D.', '. Email: ', 'koueik@wisc.edu'), ('Brandon', 'Rocque', 'MD, MS', '. Email: ', 'brandon.rocque@childrensal.org'), ('Rawad', 'Obeid', 'M.D.', '. Email: ', 'rawad.obeid@nemours.org'), ('Alexandra', 'Hochstetler', 'Biology, B.Sc.', '. Email: ', 'aehochst@iupui.edu'), ('Miriam', 'Echevarría', 'Ph.D.', '. Email: ', 'irusta@us.es'), ('ALEXANDER', 'BROWN', 'Currently Studying International Studies', '. Email: ', 's0831166@ed-alumni.net'), ('Luc', 'Joyeux', 'MD, MSc', '. Email: ', 'lucjoyeux@gmail.com'), ('Amanda', 'Coletti', 'B.S. Behavioral Neuroscience', '. Email: ', 'amanda.coletti@uconn.edu'), ('Kathrin', 'Zimmerman', 'Peace and Conflict Studies', '. Email: ', 'kzimm1@uab.edu'), ('James', 'mugga', 'Degree in business', '. Email: ', 'jmugga@connectuganda.com'), ('Hüsra', 'Tekin', 'Undergraduate Student 3rd year/Molecular Biology and Genetics student', '. Email: ', 'husra.tekin@st.uskudar.edu.tr'), ('Eyal', 'Lotan', 'M.D.', '. Email: ', 'eyal.lotan@nyumc.org'), ('Leandro', 'Castaneyra-Ruiz', 'Ph.D.', '. Email: ', 'lcastan@wustl.edu'), ('Whitney', 'McDonald', 'B.A., Ph.D.', '. Email: ', 'wmcdonald@sbpdiscovery.org'), ('Andrew', 'Teich', nan, '. Email: ', 'aft25@cumc.columbia.edu'), ('Hyowon (Hugh)', 'Lee', 'Ph.D.', '. Email: ', 'hwlee@purdue.edu'), ('John', 'Zhang', 'MD, PhD', '. Email: ', 'johnzhang3910@yahoo.com'), ('Jessica Perry', 'Jessica Perry', 'AS Science x2, BSN RN, MA', '. Email: ', 'Danjessa1999@gmail.com'), ('Shamim', 'Sinnar', 'MD, PhD', '. Email: ', 'sas738@psu.edu'), ('Steven', 'Schiff', 'MD, PhD', '. Email: ', 'sschiff@psu.edu'), ('Jerry', 'Flores', 'Bachlors of Science, Biology', '. Email: ', 'Jeflores@llu.edu'), ('Cameron', 'Sadegh', 'MD, PhD', '. Email: ', 'csadegh@partners.org'), ('Dawn', 'Gano', 'MD MAS', '. Email: ', 'dawn.gano@ucsf.edu'), ('Vanessa', 'Wall', 'MS Neurobiology and Behavior', '. Email: ', 'vanessa.l.wall@hsc.utah.edu'), ('Fernando', 'Yepes-Calderon', 'Eng, MsC, PhD', '. Email: ', 'fernandoyepesc@gmail.com'), ('SK', 'Mukherjee', nan, '. Email: ', 'sudipta70@hotmail.com'), ('Mark', 'Petersen', 'M.D.', '. Email: ', 'mark.petersen@ucsf.edu'), ('Mark', 'Wagshul', 'Ph.D.', '. Email: ', 'mark.wagshul@einstein.yu.edu'), ('Jason', 'Karimy', 'MS', '. Email: ', 'jkkarimy@gmail.com'), ('Riccardo', 'Serra', 'Medical Degree', '. Email: ', 'ric.serra91@yahoo.com'), ('Wendy', 'Ziai', 'MD, MPH', '. Email: ', 'weziai@jhmi.edu'), ('Josef', 'Cortez', 'M.D.', '. Email: ', 'josef.cortez@jax.ufl.edu'), ('Ann', 'Logan', 'Ph.D.', '. Email: ', 'a.logan@bham.ac.uk'), ('Mays', 'El-Dairi', 'M.D.', '. Email: ', 'mays.dairi@gmail.com'), ('Engin', 'Deniz', 'M.D.', '. Email: ', 'engin.deniz@yale.edu'), ('Micheal', 'Ogwal', 'Medicine and surgery', '. Email: ', 'ogwalmicheal2@gmail.com'), ('Francesco', 'Mangano', 'DO', '. Email: ', 'francesco.mangano@cchmc.org'), ('Denis', 'Bergeron', 'Ph.D.', '. Email: ', 'denis.bergeron@nist.gov'), ('Javier', 'Saavedra', 'MD, Neurosurgeon', '. Email: ', 'javiermsaavedra@gmail.com'), ('Matthew Alexander', 'Matthew', 'M.D.', '. Email: ', 'matthew.alexander@hsc.utah.edu'), ('Michael', 'Lewis', 'MD, MPH, MBA, FACPM, FACN', '. Email: ', 'dr.michael.lewis@gmail.com'), ('Huanghe Yang', 'Yang', 'Ph.D.', '. Email: ', 'huanghe.yang@duke.edu'), ('Harvey B.', 'Sarnat', 'MS, MD, FRCPC', '. Email: ', 'harvey.sarnat@albertahealthservices.ca'), ('Rebecca', 'Dorner', 'M.D.', '. Email: ', 'rdorner1@jhmi.edu'), ('DR. Sudipta Kumer', 'Mukherjee', 'MS Neurosurgery', '. Email: ', 'neudipta@gmail.com'), ('Maggie', 'Bobrowitz', 'RN, BS, MBA', '. Email: ', 'margaret.bobrowitz@dignityhealth.org'), ('Abraha', 'Hailu', 'MD, Pediatrician,International Postgraduate Pediatric Certificate, Pediatric Neurologist', '. Email: ', 'abreha_gebreegziabher@yahoo.com'), ('Ajay Choudhary', 'Ajay', 'M.S(Gen. surgery) M.Ch(Neurosurgery)', '. Email: ', 'ajay7.choudhary@gmail.com'), ('Teri', 'Belecky-Adams', 'Ph.D.', '. Email: ', 'tbadams@iupui.edu'), ('Jun', 'Zhang', 'PhD, ScD', '. Email: ', 'jun.zhang2000@gmail.com'), ('Achira', 'Roy', 'Ph.D.', '. Email: ', 'achira.roy@gmail.com'), ('James', 'Drake', 'BSE, MBBCh, MSc, FRCSC', '. Email: ', 'james.drake@sickkids.ca'), ('Kathleen Millen', 'Millen', 'Ph.D.', '. Email: ', 'kathymillen@gmail.com'), ('Arash', 'Kamali', 'M.D.', '. Email: ', 'arash.kamali@uth.tmc.edu'), ('Val', 'Sheffield', 'MD, PhD', '. Email: ', 'val-sheffield@uiowa.edu'), ('Vera Joanna', 'Burton', 'MD, PhD', '. Email: ', 'BurtonJ@kennedykrieger.org'), ('Adam', 'Waspe', 'Ph.D.', '. Email: ', 'adam.waspe@sickkids.ca'), ('Felicity', 'Gorham', 'Bachelor of Arts', '. Email: ', 'felicity_gorham@gmail.com'), ('Paul', 'DeCaen', 'Ph.D.', '. Email: ', 'paul.decaen@northwestern.edu'), ('THuy', 'Vien', 'PhD, MBA', '. Email: ', 'thuy.vien@northwestern.edu'), ('Rajendra', 'Shrestha', 'MBBS,MS,PhD', '. Email: ', 'rajendra39@yahoo.com'), ('Rachael', 'McVicar', 'current PhD student', '. Email: ', 'rachael.mcvicar@yahoo.com'), ('Yan', 'Cesar-Moreira', nan, '. Email: ', 'yancesar@icloud.com'), ('Dale', 'Ding', 'M.D.', '. Email: ', 'daleding1234@gmail.com'), ('DR RAJESH KUMAR', 'SHARMA', 'MBBS , MS , MCh', '. Email: ', 'drsrk22@gmail.com'), ('Eric', 'Gamazon', 'PhD, MS', '. Email: ', 'egamazon@uchicago.edu'), ('Margaret', 'Tish', 'Bachelor Of Science', '. Email: ', 'margaret-tish@uiowa.edu'), ('ELIAS', 'RIZK', 'M.D.', '. Email: ', 'razouk@gmail.com'), ('Joon W. \"Simon\"', 'Shim', 'Ph.D.', '. Email: ', 'shim@marshall.edu'), ('Michael', 'Yevu', 'Bsc. Chemical Engineering', '. Email: ', 'michaelyevu@gmail.com'), ('Tony', 'Magana', 'BS Zoology, M.D., Neurosurgeon', '. Email: ', 'tonymagana1@gmail.com'), ('Abel', 'Balcha', 'Medical Doctor, Neurosurgeon', '. Email: ', 'jjbobhi5@gmail.com'), ('RYAN', 'GRAY', 'Ph.D.', '. Email: ', 'ryan.gray@austin.utexas.edu'), ('Robert Reid Townsend', 'Townsend', 'MD, PhD.', '. Email: ', 'rtownsend@wustl.edu'), ('Li', 'Zhao', 'Ph.D', '. Email: ', 'lzhao@cnmc.org'), ('Hongwei', 'Yang', 'M.D.,Ph.d.', '. Email: ', 'hongwei.yang@umassmed.edu'), ('Xue', 'Feng', 'Ph.D.', '. Email: ', 'xf4j@virginia.edu'), ('Kumar', 'Sripathirathan', 'Ph.D', '. Email: ', 'info@deha.us.com'), ('Xiaochang', 'Zhang', 'Ph.D.', '. Email: ', 'xczhang@uchicago.edu'), ('Chandana', 'Buddhala', 'Ph.D.', '. Email: ', 'chandana@wustl.edu'), ('Amit', 'Ayer', 'MD, MBA', '. Email: ', 'amit-ayer@northwestern.edu'), ('Sung Eun', 'Kim', 'Ph.D.', '. Email: ', 'sungeun.kim@austin.utexas.edu'), ('Chance', 'Hart', nan, '. Email: ', 'chance@catalystmedicine.com'), ('Chirayukumar', 'Pandya', 'Ph.D', '. Email: ', 'cpandya@uky.edu'), ('Viraj', 'Gajera', nan, '. Email: ', 'virajgajera5@gmail.com'), ('Maya', 'Kommer', 'MBBS BA(Hons) Oxon, MRCS', '. Email: ', 'maya.kommer@gmail.com'), ('Nicole', 'Zahradka', 'Ph.D.', '. Email: ', 'nzahrad1@jhu.edu'), ('Prof Georgy', 'Koentges', 'PhD, BSc', '. Email: ', 'g.koentges@warwick.ac.uk'), ('Lei', 'Huang', 'M.D.', '. Email: ', 'lhuang@llu.edu'), ('Jefferson', 'Chen', 'MD, PhD', '. Email: ', 'jeffewc1@uci.edu'), ('Troy', 'Ghashghaei', 'Ph.D.', '. Email: ', 'tghashg@ncsu.edu'), ('Lotta', 'Ellingsen', 'Ph.D.', '. Email: ', 'lotta@hi.is'), ('Frederick', 'Missel', 'Spaceflight Operations', '. Email: ', 'misself@my.erau.edu'), ('Luxwell', 'Luxwell', 'M.Med (Neurosurgery), MBChB', '. Email: ', 'doclux@gmail.com'), ('Bernadette', 'Holdener', 'Ph.D.', '. Email: ', 'bernadette.holdener@stonybrook.edu'), ('Olufemi', 'Idowu', 'MBBS, MSc, FWACS (Neurosurgery)', '. Email: ', 'oeidowu412@yahoo.com'), ('THIRUSIVAPRAGASAM', 'SUBRAMANIAM', 'MBBS,PGCHET', '. Email: ', 'siva_medicine@hotmail.com'), ('Marcos Devanir Silva', 'da Costa', 'MD, PhD', '. Email: ', 'marcoscostaneuro@gmail.com'), ('Devin', 'McBride', 'Ph.D.', '. Email: ', 'devin.w.mcbride@uth.tmc.edu'), ('Seonhee Kim', 'Kim', 'Ph.D.', '. Email: ', 'seonhee.kim@temple.edu'), ('Nanna', 'MacAulay', 'BSc, MSc, PhD', '. Email: ', 'macaulay@sund.ku.dk'), ('Brandon', 'Miller', 'MD, PhD', '. Email: ', 'brandonmiller@uky.edu'), ('Yun', 'Yung', 'Ph.D.', '. Email: ', 'yyung@scintillon.org'), ('Sascha', 'Lee', 'PhD, MBA', '. Email: ', 'sascha.lee@senseer.us'), ('Sarah', 'Merrill', 'BA, MD in progress', '. Email: ', 'merill.sarah@mayo.edu'), ('vijayabalan', 'balasingam', 'MD PhD', '. Email: ', 'vbalasingam@videotron.ca'), ('Hugh', 'Garton', 'MD, MHSc', '. Email: ', 'hgarton@umich.edu'), ('Joel', 'Geerling', 'MD, PhD', '. Email: ', 'joel-geerling@uiowa.edu'), ('Maxwell', 'Heiman', 'Ph.D.', '. Email: ', 'heiman@genetics.med.harvard.edu'), ('Jack', 'Wells', nan, '. Email: ', 'jack.wells@ucl.ac.uk'), ('Grace', 'Lai', 'MD PhD', '. Email: ', 'grace.lai@northwestern.edu'), ('Arie Horowitz', 'Horowitz', 'D.Sc.', '. Email: ', 'arie2006@gmail.com'), ('Sanjiv', 'Neupane', 'Ph.D.', '. Email: ', 'sanjiv.neupane@stonybrook.edu'), ('Yang', 'Zhang', 'Ph.D.', '. Email: ', 'yang.zhang3@duke.edu'), ('Ulrick Sidney', 'Kanmounye', 'M.D.', '. Email: ', 'ulricksidney@gmail.com'), ('Christopher', 'Candy', nan, '. Email: ', 'ccandy85@gmail.com'), ('Darrin', 'Lee', 'MD, PhD', '. Email: ', 'darrin.lee@med.usc.edu'), ('Khadar', 'Abdi', 'Ph.D.', '. Email: ', 'kma9@duke.edu'), ('Mick2', 'Follari', nan, '. Email: ', 'creativespark@follari.com'), ('Noriana', 'Jakopin', nan, '. Email: ', 'noriana@hydroassoc.org'), ('Edwin', 'Monuki', 'MD, PhD', '. Email: ', 'emonuki@uci.edu'), ('Kathryn', 'Woods', 'B.S., M.S., currently Doctoral Candidate', '. Email: ', 'krwoods@uams.edu'), ('David', 'Anderson', 'BSc; Msc', '. Email: ', 'dand3231@uni.sydney.edu.au'), ('Tyler', 'Vasas', 'bachelor of science degree in electrical engineering', '. Email: ', 'vasasj@musc.edu'), ('Eri', 'Iwasawa', 'MD, PhD', '. Email: ', 'eri.iwasawa@cchmc.org'), ('A. Scott', 'Emmert', 'BS', '. Email: ', 'Andrew.Emmert@cchmc.org'), ('Leila', 'Montaser-Kouhsari', 'MD PhD', '. Email: ', 'lm3386@cumc.columbia.edu'), ('Casey', 'Grage', 'Bachelors', '. Email: ', 'casey@hublysurgical.com'), ('Luis Manuel', 'Rodriguez-Perez', 'Bachelor in Biologial Sciences', '. Email: ', 'luismrp@uma.es'), ('nyirasfari', 'rosine', 'masters in paediatric', '. Email: ', 'safarirose2000@gmail.com'), ('Aynalem', 'Gashaw', 'Bsc.', '. Email: ', 'kasabi19@gmail.com'), ('Aynalem', 'Gashaw', 'Msc', '. Email: ', 'ayni581@gmail.com'), ('Marc', 'Oria', 'Ph.D.', '. Email: ', 'marc.oria@cchmc.org'), ('Mats', 'Tullberg', 'MD, PhD,', '. Email: ', 'mats.tullberg@neuro.gu.se'), ('Roger', 'Bayston', 'MMedSci PhD FRCPath', '. Email: ', 'roger.bayston@nottingham.ac.uk')]}\n"
     ]
    },
    {
     "name": "stdout",
     "output_type": "stream",
     "text": [
      "Take time to review the list of doctors in your area of interest. Provide the name of your preferred doctor: Dr. David Anderson\n",
      "To reach out to a doctor, would you like an email template to use? yes\n",
      "What is your email address? laureng5@umd.edu\n",
      "What is your phone number? 3172639485\n",
      "\n",
      "\n",
      "Dear Dr. David Anderson,\n",
      "\n",
      "\n",
      "I am an individual with hydrocephalus, and I am writing to request your medical guidance. \n",
      "I am 21 years old, and I have had hydrocephalus for 8 years. \n",
      "I am from Maryland, in United States. \n",
      "I am searching for a doctor who specializes in biomarkers, and I found your contact information in a database stored by the Hydrocephalus Association. \n",
      "Can I please schedule a medical consultation with you? \n",
      "\n",
      "\n",
      "Thank you, \n",
      "\n",
      "\n",
      "Lauren Eng \n",
      "laureng5@umd.edu \n",
      "3172639485 \n",
      "\n",
      "\n",
      "A list of additional doctors is above. Have a nice day. \n"
     ]
    }
   ],
   "source": [
    "#EMAIL TEMPLATE\n",
    "\n",
    "print(\"\\n\")\n",
    "print(\"Dear \" + doctor_of_choice + \",\")\n",
    "print(\"\\n\")\n",
    "print(\"I am an individual with hydrocephalus, and I am writing to request your medical guidance. \")\n",
    "print(\"I am %g years old, and I have had hydrocephalus for %g years. \" %(age, years))\n",
    "if (len(state) >= 1):\n",
    "    print(\"I am from %s, in %s. \" %(state, country))\n",
    "else:\n",
    "    print(\"I am from %s. \" %(country))\n",
    "    \n",
    "print(\"I am searching for a doctor who specializes in \" + user_input + \", and I found your contact information in a database stored by the Hydrocephalus Association. \")\n",
    "print(\"Can I please schedule a medical consultation with you? \")\n",
    "print(\"\\n\")\n",
    "print(\"Thank you, \")\n",
    "print(\"\\n\")\n",
    "print(\"%s \" %name)\n",
    "print(\"%s \" %email)\n",
    "print(\"%s \" %phone)\n",
    "print(\"\\n\")\n",
    "print(\"A list of additional doctors is above. Have a nice day. \")\n"
   ]
  }
 ],
 "metadata": {
  "kernelspec": {
   "display_name": "Python 3",
   "language": "python",
   "name": "python3"
  },
  "language_info": {
   "codemirror_mode": {
    "name": "ipython",
    "version": 3
   },
   "file_extension": ".py",
   "mimetype": "text/x-python",
   "name": "python",
   "nbconvert_exporter": "python",
   "pygments_lexer": "ipython3",
   "version": "3.8.5-final"
  }
 },
 "nbformat": 4,
 "nbformat_minor": 2
}