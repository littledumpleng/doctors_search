{
 "cells": [
  {
   "cell_type": "code",
   "execution_count": null,
   "metadata": {},
   "outputs": [],
   "source": [
    "import pandas as pd\n",
    "df = pd.read_csv(\"HA Scientists.csv\")\n",
    "(df[\"Provide overview of your hydrocephalus research focus\"]).head(268) #shortens the output"
   ]
  },
  {
   "cell_type": "code",
   "execution_count": null,
   "metadata": {},
   "outputs": [],
   "source": [
    "#INTRODUCTION (This data may be stored)\n",
    "\n",
    "#Enter name\n",
    "name = input(\"Hello! What is your name? \")\n",
    "\n",
    "#Enter age\n",
    "age = input(\"How old are you? \")\n",
    "age = int(age)\n",
    "\n",
    "#Enter years\n",
    "years = input(\"How many years have you had hydrocephalus? \")\n",
    "years = int(years)\n",
    "\n",
    "#Enter location information\n",
    "state = \"\" #initializes \"state\" to a blank string. \"state\" will otherwise save input from a previous iteration\n",
    "country = input(\"What country are you from? \")\n",
    "\n",
    "if (country == \"USA\" or country == \"US\" or country == \"United States\" or country == \"united states\" or country == \"u.s.a.\" or country == \"U.S.\" or country == \"U.S.A.\" or country == \"u.s.\" or country == \"usa\" or country == \"us\" or country == \"United States of America\" or country == \"united states of america\"): \n",
    "        state = input(\"What state do you live in? \")\n",
    "        "
   ]
  },
  {
   "cell_type": "code",
   "execution_count": null,
   "metadata": {},
   "outputs": [],
   "source": [
    "#SEARCH ENGINE\n",
    "\n",
    "user_input = input(\"What would you like to find in this database? \")\n",
    "\n",
    "print(\"Please wait while we search for a list of doctors: \")\n",
    "\n",
    "# split search into list\n",
    "user_input.replace(\",\",\" \")\n",
    "search_list = user_input.split(\" \")\n",
    "\n",
    "print(search_list)\n",
    "\n",
    "#create dictionary\n",
    "search_terms = {}\n",
    "\n",
    "#for each item in list\n",
    "for word in search_list:\n",
    "    search_terms[word] = []\n",
    "    print(search_terms)\n",
    "\n",
    "for word_s in search_terms:\n",
    "    for index, row in df.iterrows():\n",
    "        for column in df[\"Provide overview of your hydrocephalus research focus\"]:\n",
    "            column = str(column)\n",
    "            column = column.split()\n",
    "            for word_c in column:\n",
    "                    if row[\"Degrees\"] == \"MD\":\n",
    "                        row[\"Degrees\"] = \"M.D.\"\n",
    "                    elif row[\"Degrees\"] == \"PhD\":\n",
    "                        row[\"Degrees\"] = \"Ph.D.\"\n",
    "                    \n",
    "                    full_name = row['Name'], row['Last'], row[\"Degrees\"] , \". Email: \" , row[\"Email\"]\n",
    "                \n",
    "                    if full_name not in search_terms[word_s]:\n",
    "                        search_terms[word_s].append(full_name)\n",
    "\n",
    "print(search_terms)\n",
    "\n",
    "doctor_of_choice = input(\"Take time to review the list of doctors in your area of interest. Provide the name of your preferred doctor: \") \n",
    "#doctor_of_choice may be stored"
   ]
  },
  {
   "cell_type": "code",
   "execution_count": null,
   "metadata": {},
   "outputs": [],
   "source": [
    "#YES/NO EMAIL TEMPLATE\n",
    "\n",
    "template_answer = input(\"To reach out to a doctor, would you like an email template to use? \") \n",
    "\n",
    "if (template_answer == \"no\" or template_answer == \"No\"):\n",
    "    print(\"Have a nice day. A list of doctors is above. \")\n",
    "else:\n",
    "\n",
    "    #Enter email\n",
    "    email = input(\"What is your email address? \")\n",
    "\n",
    "    #Enter phone number\n",
    "    phone = input(\"What is your phone number? \")\n"
   ]
  },
  {
   "cell_type": "code",
   "execution_count": null,
   "metadata": {},
   "outputs": [],
   "source": [
    "#EMAIL TEMPLATE\n",
    "\n",
    "print(\"\\n\")\n",
    "print(\"Dear \" + doctor_of_choice + \",\")\n",
    "print(\"\\n\")\n",
    "print(\"I am an individual with hydrocephalus, and I am writing to request your medical guidance. \")\n",
    "print(\"I am %g years old, and I have had hydrocephalus for %g years. \" %(age, years))\n",
    "if (len(state) >= 1):\n",
    "    print(\"I am from %s, in %s. \" %(state, country))\n",
    "else:\n",
    "    print(\"I am from %s. \" %(country))\n",
    "    \n",
    "print(\"I am searching for a doctor who specializes in \" + user_input + \", and I found your contact information in a database stored by the Hydrocephalus Association. \")\n",
    "print(\"Can I please schedule a medical consultation with you? \")\n",
    "print(\"\\n\")\n",
    "print(\"Thank you, \")\n",
    "print(\"\\n\")\n",
    "print(\"%s \" %name)\n",
    "print(\"%s \" %email)\n",
    "print(\"%s \" %phone)\n",
    "print(\"\\n\")\n",
    "print(\"A list of additional doctors is above. Have a nice day. \")\n"
   ]
  }
 ],
 "metadata": {
  "kernelspec": {
   "display_name": "Python 3",
   "language": "python",
   "name": "python3"
  },
  "language_info": {
   "codemirror_mode": {
    "name": "ipython",
    "version": 3
   },
   "file_extension": ".py",
   "mimetype": "text/x-python",
   "name": "python",
   "nbconvert_exporter": "python",
   "pygments_lexer": "ipython3",
   "version": "3.8.5-final"
  }
 },
 "nbformat": 4,
 "nbformat_minor": 2
}